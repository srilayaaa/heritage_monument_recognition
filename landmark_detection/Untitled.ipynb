{
 "cells": [
  {
   "cell_type": "code",
   "execution_count": 1,
   "id": "f95bed5b",
   "metadata": {},
   "outputs": [],
   "source": [
    "import csv\n",
    "descriptions = {\n",
    "    #'Taj Mahal': 'A white marble mausoleum in Agra, India. It is considered one of the New Seven Wonders of the World.',\n",
    "    \"Ajanta Caves\":\"Ajanta Caves is a UNESCO World Heritage Site located in Maharashtra, India. It is a complex of ancient Buddhist cave temples, dating back to the 2nd century BCE. The caves are renowned for their exquisite rock-cut architecture and beautiful mural paintings depicting Buddhist art and stories.\" ,\n",
    "    \"Taj Mahal\":\"Taj Mahal is an iconic marble mausoleum located in Agra, Uttar Pradesh, India. It was built by the Mughal emperor Shah Jahan in memory of his wife Mumtaz Mahal. Completed in 1653, it is considered one of the most beautiful examples of Mughal architecture and is recognized as a UNESCO World Heritage Site. The Taj Mahal is renowned for its intricate marble work, including its white domed structure, minarets, and elaborate gardens. It is regarded as a symbol of love and is visited by millions of tourists each year.\",\n",
    "    'Charminar': 'A historic monument and iconic symbol of Hyderabad, Telangana, India. It is known for its intricate Islamic architecture.',\n",
    "    # Add more descriptions here\n",
    "}\n",
    "\n",
    "# Specify the desired file name\n",
    "csv_file = 'landmark_descriptions.csv'\n",
    "\n",
    "# Write the descriptions to the CSV file\n",
    "with open(csv_file, 'w', newline='', encoding='utf-8') as file:\n",
    "    writer = csv.writer(file)\n",
    "    writer.writerow(['Landmark', 'Description'])  # Write the header row\n",
    "    for landmark, description in descriptions.items():\n",
    "        writer.writerow([landmark, description])\n"
   ]
  },
  {
   "cell_type": "code",
   "execution_count": null,
   "id": "7da1ae69",
   "metadata": {},
   "outputs": [],
   "source": []
  }
 ],
 "metadata": {
  "kernelspec": {
   "display_name": "Python 3 (ipykernel)",
   "language": "python",
   "name": "python3"
  },
  "language_info": {
   "codemirror_mode": {
    "name": "ipython",
    "version": 3
   },
   "file_extension": ".py",
   "mimetype": "text/x-python",
   "name": "python",
   "nbconvert_exporter": "python",
   "pygments_lexer": "ipython3",
   "version": "3.9.12"
  }
 },
 "nbformat": 4,
 "nbformat_minor": 5
}
